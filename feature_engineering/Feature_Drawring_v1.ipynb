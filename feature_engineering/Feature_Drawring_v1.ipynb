{
 "cells": [
  {
   "cell_type": "code",
   "execution_count": 18,
   "id": "ef4223a8-6641-4f19-a671-9932582f7388",
   "metadata": {},
   "outputs": [],
   "source": [
    "import pandas as pd\n",
    "import numpy as np\n",
    "import seaborn as sns\n",
    "import matplotlib.pyplot as plt\n",
    "import random\n",
    "import os\n",
    "from tqdm import tqdm\n",
    "from sklearn.model_selection import train_test_split\n"
   ]
  },
  {
   "cell_type": "code",
   "execution_count": 13,
   "id": "f9582555-a185-4d45-8ae4-544403be2484",
   "metadata": {},
   "outputs": [],
   "source": [
    "def read_all_csv_files(directory_path, features, limit=1000000):\n",
    "    # Initialize an empty list to store dataframes from CSV files\n",
    "    dataframes = []\n",
    "\n",
    "    # Get a list of all files in the directory\n",
    "    file_list = os.listdir(directory_path)\n",
    "\n",
    "    # Loop through each file and check if it's a CSV file\n",
    "    for file_name in file_list:\n",
    "        if file_name.endswith('.csv'):\n",
    "            # Get the full file path\n",
    "            file_path = os.path.join(directory_path, file_name)\n",
    "            # Read the CSV file into a pandas DataFrame\n",
    "            df = pd.read_csv(file_path)\n",
    "            # Remove leading and trailing spaces from column names\n",
    "            df.columns = df.columns.str.strip()\n",
    "            df['Stratify'] = file_name\n",
    "            # Append the DataFrame to the list\n",
    "            dataframes.append(df[features])\n",
    "\n",
    "    # Merge all DataFrames into a single DataFrame\n",
    "    merged_df = pd.concat(dataframes, ignore_index=True)\n",
    "    print(\"Initial Row: {}\".format(merged_df.shape[0]))\n",
    "    \n",
    "    #applying limit if row_count > limit\n",
    "    if len(merged_df) > limit:\n",
    "        print(\"As Row Exceeds {0}, we are taking upto {1} rows\".format(limit, limit))\n",
    "        #merged_df = merged_df.sample(limit, random_state=42)\n",
    "        sampled_df, _ = train_test_split(\n",
    "            merged_df, \n",
    "            train_size=limit,  # Select 'limit' rows\n",
    "            stratify=merged_df['Stratify'], \n",
    "            random_state=42\n",
    "        )\n",
    "\n",
    "        return sampled_df\n",
    "    \n",
    "    return merged_df\n"
   ]
  },
  {
   "cell_type": "code",
   "execution_count": 14,
   "id": "6732a252-a8d9-472a-8420-59be627777df",
   "metadata": {},
   "outputs": [],
   "source": [
    "def sanitize_data_frames_updated(dataframe, limit=1000000, remove_infinity=True, remove_null=True):\n",
    "    print(\"Before Santization Row Count:\", dataframe.shape[0])\n",
    "\n",
    "    if remove_infinity:\n",
    "        numeric_cols = dataframe.select_dtypes(include=[np.number]).columns\n",
    "        infinite_counts = dataframe[numeric_cols].applymap(np.isinf).sum()\n",
    "        for col, count in infinite_counts.items():\n",
    "            if count != 0:\n",
    "                print(f\"Column '{col}' contains {count} infinite values.\")\n",
    "                if limit is not None:\n",
    "                    dataframe = dataframe[~np.isinf(dataframe[col])]\n",
    "\n",
    "    if remove_null:\n",
    "        null_counts = dataframe.isnull().sum()\n",
    "        for col, count in null_counts.items():\n",
    "            if count != 0:\n",
    "                print(f\"Column '{col}' contains {count} null values.\")\n",
    "                if limit is not None:\n",
    "                    dataframe = dataframe.dropna(subset=[col])\n",
    "    \n",
    "    print(\"Sanitized Row Count:\", dataframe.shape[0])    \n",
    "    return dataframe"
   ]
  },
  {
   "cell_type": "code",
   "execution_count": null,
   "id": "84826de3-f62f-4fff-9092-1691a0738ff7",
   "metadata": {},
   "outputs": [],
   "source": []
  },
  {
   "cell_type": "code",
   "execution_count": 24,
   "id": "1e419567-ff6d-4ec8-9293-9d1868cc1387",
   "metadata": {},
   "outputs": [],
   "source": [
    "#all dataset sources to make iterate to read csv files\n",
    "dataset_sources = {\n",
    "\n",
    "    ## Benign Traffic      \n",
    "    'client_1': {\n",
    "        'benign': '../row_data_IID/{}/benign',\n",
    "        'attack': '../row_data_IID/{}/attack',\n",
    "    },\n",
    "    'client_2': {\n",
    "        'benign': '../row_data_IID/{}/benign',\n",
    "        'attack': '../row_data_IID/{}/attack',\n",
    "    },\n",
    "    'client_3': {\n",
    "        'benign': '../row_data_IID/{}/benign',\n",
    "        'attack': '../row_data_IID/{}/attack',\n",
    "    },\n",
    "    'client_4': {\n",
    "        'benign': '../row_data_IID/{}/benign',\n",
    "        'attack': '../row_data_IID/{}/attack',\n",
    "    },\n",
    "\n",
    "}"
   ]
  },
  {
   "cell_type": "code",
   "execution_count": 45,
   "id": "0fcbc3a9-55a9-4745-b4c5-b758f14c6c98",
   "metadata": {},
   "outputs": [],
   "source": [
    "# @features is the features are from Old CIC\n",
    "# @Features_v2 are from new CIC\n",
    "features=[ 'Total Length of Bwd Packet', 'Fwd Pkt Len Std','ACK Flag Cnt', 'Tot Fwd Pkts','Tot Bwd Pkts','TotLen Fwd Pkts','TotLen Bwd Pkts','Fwd Seg Size Min', \n",
    "          'Pkt Size Avg','Pkt Len Mean', 'Fwd Pkt Len Mean', 'Bwd Pkt Len Mean', 'Flow IAT Mean' 'Stratify']\n",
    "features_v2=[ \n",
    "   'Total Length of Bwd Packet',\n",
    "    'Flow IAT Mean',\n",
    "    'Packet Length Variance',\n",
    "    'Stratify'\n",
    "]"
   ]
  },
  {
   "cell_type": "code",
   "execution_count": null,
   "id": "d54f7394-cb72-43ba-8b6c-f78b807ab170",
   "metadata": {},
   "outputs": [],
   "source": [
    "# web_service_counts = get_flow_stats_by_category(unicauca_df, list(unicauca_traffic.keys()))\n",
    "# web_service_counts"
   ]
  },
  {
   "cell_type": "code",
   "execution_count": 46,
   "id": "d209d628-1f98-41fd-9768-368f566c5f7b",
   "metadata": {},
   "outputs": [
    {
     "name": "stderr",
     "output_type": "stream",
     "text": [
      "100%|████████████████████████████████████████████████████████████████████████████████████████| 4/4 [00:00<00:00, 19784.45it/s]\n",
      "  0%|                                                                                                   | 0/4 [00:00<?, ?it/s]"
     ]
    },
    {
     "name": "stdout",
     "output_type": "stream",
     "text": [
      " Loading....Type = client_1, application = benign client_1 benign\n",
      "Initial Row: 202821\n",
      "Before Santization Row Count: 202821\n"
     ]
    },
    {
     "name": "stderr",
     "output_type": "stream",
     "text": [
      "/tmp/ipykernel_517539/1919331368.py:6: FutureWarning: DataFrame.applymap has been deprecated. Use DataFrame.map instead.\n",
      "  infinite_counts = dataframe[numeric_cols].applymap(np.isinf).sum()\n"
     ]
    },
    {
     "name": "stdout",
     "output_type": "stream",
     "text": [
      "Sanitized Row Count: 202821\n",
      " Loading....Type = client_1, application = benign client_1 benign\n",
      "\n",
      "\n",
      "\n",
      " Loading....Type = client_1, application = attack client_1 attack\n",
      "Initial Row: 2409383\n",
      "As Row Exceeds 1000000, we are taking upto 1000000 rows\n",
      "Before Santization Row Count: 1000000\n"
     ]
    },
    {
     "name": "stderr",
     "output_type": "stream",
     "text": [
      "/tmp/ipykernel_517539/1919331368.py:6: FutureWarning: DataFrame.applymap has been deprecated. Use DataFrame.map instead.\n",
      "  infinite_counts = dataframe[numeric_cols].applymap(np.isinf).sum()\n",
      " 25%|██████████████████████▊                                                                    | 1/4 [00:16<00:50, 16.77s/it]"
     ]
    },
    {
     "name": "stdout",
     "output_type": "stream",
     "text": [
      "Sanitized Row Count: 1000000\n",
      " Loading....Type = client_1, application = attack client_1 attack\n",
      "\n",
      "\n",
      "\n",
      " Loading....Type = client_2, application = benign client_2 benign\n",
      "Initial Row: 185943\n",
      "Before Santization Row Count: 185943\n"
     ]
    },
    {
     "name": "stderr",
     "output_type": "stream",
     "text": [
      "/tmp/ipykernel_517539/1919331368.py:6: FutureWarning: DataFrame.applymap has been deprecated. Use DataFrame.map instead.\n",
      "  infinite_counts = dataframe[numeric_cols].applymap(np.isinf).sum()\n"
     ]
    },
    {
     "name": "stdout",
     "output_type": "stream",
     "text": [
      "Sanitized Row Count: 185943\n",
      " Loading....Type = client_2, application = benign client_2 benign\n",
      "\n",
      "\n",
      "\n",
      " Loading....Type = client_2, application = attack client_2 attack\n",
      "Initial Row: 2408730\n",
      "As Row Exceeds 1000000, we are taking upto 1000000 rows\n",
      "Before Santization Row Count: 1000000\n"
     ]
    },
    {
     "name": "stderr",
     "output_type": "stream",
     "text": [
      "/tmp/ipykernel_517539/1919331368.py:6: FutureWarning: DataFrame.applymap has been deprecated. Use DataFrame.map instead.\n",
      "  infinite_counts = dataframe[numeric_cols].applymap(np.isinf).sum()\n",
      " 50%|█████████████████████████████████████████████▌                                             | 2/4 [00:33<00:33, 16.74s/it]"
     ]
    },
    {
     "name": "stdout",
     "output_type": "stream",
     "text": [
      "Sanitized Row Count: 1000000\n",
      " Loading....Type = client_2, application = attack client_2 attack\n",
      "\n",
      "\n",
      "\n",
      " Loading....Type = client_3, application = benign client_3 benign\n",
      "Initial Row: 223200\n",
      "Before Santization Row Count: 223200\n"
     ]
    },
    {
     "name": "stderr",
     "output_type": "stream",
     "text": [
      "/tmp/ipykernel_517539/1919331368.py:6: FutureWarning: DataFrame.applymap has been deprecated. Use DataFrame.map instead.\n",
      "  infinite_counts = dataframe[numeric_cols].applymap(np.isinf).sum()\n"
     ]
    },
    {
     "name": "stdout",
     "output_type": "stream",
     "text": [
      "Sanitized Row Count: 223200\n",
      " Loading....Type = client_3, application = benign client_3 benign\n",
      "\n",
      "\n",
      "\n",
      " Loading....Type = client_3, application = attack client_3 attack\n",
      "Initial Row: 2335440\n",
      "As Row Exceeds 1000000, we are taking upto 1000000 rows\n",
      "Before Santization Row Count: 1000000\n"
     ]
    },
    {
     "name": "stderr",
     "output_type": "stream",
     "text": [
      "/tmp/ipykernel_517539/1919331368.py:6: FutureWarning: DataFrame.applymap has been deprecated. Use DataFrame.map instead.\n",
      "  infinite_counts = dataframe[numeric_cols].applymap(np.isinf).sum()\n",
      " 75%|████████████████████████████████████████████████████████████████████▎                      | 3/4 [00:50<00:16, 16.87s/it]"
     ]
    },
    {
     "name": "stdout",
     "output_type": "stream",
     "text": [
      "Sanitized Row Count: 1000000\n",
      " Loading....Type = client_3, application = attack client_3 attack\n",
      "\n",
      "\n",
      "\n",
      " Loading....Type = client_4, application = benign client_4 benign\n",
      "Initial Row: 246797\n",
      "Before Santization Row Count: 246797\n"
     ]
    },
    {
     "name": "stderr",
     "output_type": "stream",
     "text": [
      "/tmp/ipykernel_517539/1919331368.py:6: FutureWarning: DataFrame.applymap has been deprecated. Use DataFrame.map instead.\n",
      "  infinite_counts = dataframe[numeric_cols].applymap(np.isinf).sum()\n"
     ]
    },
    {
     "name": "stdout",
     "output_type": "stream",
     "text": [
      "Sanitized Row Count: 246797\n",
      " Loading....Type = client_4, application = benign client_4 benign\n",
      "\n",
      "\n",
      "\n",
      " Loading....Type = client_4, application = attack client_4 attack\n",
      "Initial Row: 2232941\n",
      "As Row Exceeds 1000000, we are taking upto 1000000 rows\n",
      "Before Santization Row Count: 1000000\n"
     ]
    },
    {
     "name": "stderr",
     "output_type": "stream",
     "text": [
      "/tmp/ipykernel_517539/1919331368.py:6: FutureWarning: DataFrame.applymap has been deprecated. Use DataFrame.map instead.\n",
      "  infinite_counts = dataframe[numeric_cols].applymap(np.isinf).sum()\n",
      "100%|███████████████████████████████████████████████████████████████████████████████████████████| 4/4 [01:07<00:00, 16.78s/it]"
     ]
    },
    {
     "name": "stdout",
     "output_type": "stream",
     "text": [
      "Sanitized Row Count: 1000000\n",
      " Loading....Type = client_4, application = attack client_4 attack\n",
      "\n",
      "\n",
      "\n"
     ]
    },
    {
     "name": "stderr",
     "output_type": "stream",
     "text": [
      "\n"
     ]
    }
   ],
   "source": [
    "##Reading all the data\n",
    "## type =client\n",
    "## app = bening or attack\n",
    "for type, type_group in tqdm(dataset_sources.items(), total=len(dataset_sources)):\n",
    "    locals()[type] = {}\n",
    "\n",
    "for type, type_group in tqdm(dataset_sources.items(), total=len(dataset_sources)):\n",
    "    for app, path in type_group.items():\n",
    "        print(f' Loading....Type = {type}, application = {app}', type, app)\n",
    "        dataframe = read_all_csv_files(path.format(type), features_v2)\n",
    "        dataframe = sanitize_data_frames_updated(dataframe)\n",
    "        locals()[type][app] = dataframe\n",
    "        print(f' Loading....Type = {type}, application = {app}', type, app)\n",
    "        print(\"\\n\\n\")\n",
    "    \n"
   ]
  },
  {
   "cell_type": "code",
   "execution_count": 80,
   "id": "e72bcbc5-c11c-4daf-9714-f43777fc1384",
   "metadata": {},
   "outputs": [],
   "source": [
    "##Function to draw the box plot\n",
    "# def draw_box_plot(data, tick_list, title, x_label=\"\", y_label=\"\", show_outliers=False, vertical=True, size=(6,3), tick_color=[], save_path=None):\n",
    "#     #Finding the Tick Numbers\n",
    "\n",
    "#      # Make sure the length of tick_color list matches the length of tick_list\n",
    "#     if tick_color and len(tick_color) != len(tick_list):\n",
    "#         raise ValueError(\"tick_color list must match the length of tick_list\")\n",
    "    \n",
    "#     tick_numbers = [index+1 for index, value in enumerate(tick_list)]\n",
    "#     fig, ax = plt.subplots(figsize=size)\n",
    "#     plt.suptitle(title)\n",
    "#     ax = fig.add_axes([0, 0, 1, 1])\n",
    "#     bp = ax.boxplot(data, showfliers=show_outliers, vert=vertical, patch_artist=True)\n",
    "#     #bp = ax.boxplot(data, showfliers=show_outliers, vert=vertical)\n",
    "#     plt.xticks(tick_numbers, tick_list, rotation=90)    \n",
    "#     #plt.xticks(rotation=90)\n",
    "\n",
    "#     # Set the color of the tick labels if tick_color list is provided\n",
    "#     if len(tick_color) > 0:\n",
    "#         for tick_label, color in zip(ax.get_xticklabels(), tick_color):\n",
    "#             tick_label.set_color(color)\n",
    "    \n",
    "#     ax.set_ylabel(y_label)\n",
    "#     # plt.yscale('log')\n",
    "\n",
    "#     if save_path:\n",
    "#         plt.savefig(save_path, dpi=300, bbox_inches=\"tight\")\n",
    "#         print(f\"Plot saved to: {save_path}\")\n",
    "#     plt.show()\n",
    "\n",
    "\n",
    "\n",
    "## Function to draw and save the box plot\n",
    "def draw_box_plot(data, tick_list, title, x_label=\"\", y_label=\"\", \n",
    "                  show_outliers=False, vertical=True, size=(6,3), \n",
    "                  tick_color=[], save_path=None):\n",
    "    \"\"\"\n",
    "    Draws a box plot and saves it as an image file.\n",
    "\n",
    "    Parameters:\n",
    "    - data: List or array-like, dataset for box plot.\n",
    "    - tick_list: List of labels for x-axis categories.\n",
    "    - title: Title of the box plot.\n",
    "    - x_label, y_label: Labels for the axes.\n",
    "    - show_outliers: Whether to show outliers (default False).\n",
    "    - vertical: If True, vertical box plot; if False, horizontal.\n",
    "    - size: Tuple (width, height) for figure size.\n",
    "    - tick_color: List of colors for x-axis ticks.\n",
    "    - save_path: File path to save the plot (default None, meaning no saving).\n",
    "    \n",
    "    Returns:\n",
    "    - None (displays and optionally saves the plot)\n",
    "    \"\"\"\n",
    "    \n",
    "    # Ensure tick_color matches tick_list length\n",
    "    if tick_color and len(tick_color) != len(tick_list):\n",
    "        raise ValueError(\"tick_color list must match the length of tick_list\")\n",
    "    \n",
    "    tick_numbers = [index+1 for index, _ in enumerate(tick_list)]\n",
    "    \n",
    "    # Create figure and axis\n",
    "    fig, ax = plt.subplots(figsize=size)\n",
    "    \n",
    "    # Set the title above the plot with padding\n",
    "    ax.set_title(title, pad=10, fontsize=14)  # Adjust padding if needed\n",
    "    \n",
    "    # Create box plot\n",
    "    bp = ax.boxplot(data, showfliers=show_outliers, vert=vertical, patch_artist=True)\n",
    "    \n",
    "    # Set x-axis labels\n",
    "    plt.xticks(tick_numbers, tick_list, rotation=90)\n",
    "\n",
    "    # Apply custom tick colors if provided\n",
    "    if tick_color:\n",
    "        for tick_label, color in zip(ax.get_xticklabels(), tick_color):\n",
    "            tick_label.set_color(color)\n",
    "    \n",
    "    ax.set_ylabel(y_label)\n",
    "    plt.xlabel(x_label)\n",
    "\n",
    "    # Save the plot if a save path is provided\n",
    "    if save_path:\n",
    "        plt.savefig(save_path, dpi=300, bbox_inches=\"tight\")\n",
    "        print(f\"Plot saved to: {save_path}\")\n",
    "    \n",
    "    # Show the plot\n",
    "    plt.show()\n",
    "\n"
   ]
  },
  {
   "cell_type": "markdown",
   "id": "33b21986-83fb-4302-a6f9-7556400d7521",
   "metadata": {},
   "source": [
    "## Feature Analsyis"
   ]
  },
  {
   "cell_type": "code",
   "execution_count": 86,
   "id": "15779d70-9cd5-417a-a8ae-200f925096aa",
   "metadata": {},
   "outputs": [
    {
     "name": "stdout",
     "output_type": "stream",
     "text": [
      "Plot saved to: /home/sharedrive/PythonCodes/FL_IDS/plots/packet_length_variance_IID_benign.png\n"
     ]
    },
    {
     "data": {
      "image/png": "[encoded data removed]",
      "text/plain": [
       "<Figure size 400x300 with 1 Axes>"
      ]
     },
     "metadata": {},
     "output_type": "display_data"
    }
   ],
   "source": [
    "plot_types = {\n",
    "    'client_1': ['benign'],\n",
    "    'client_2': ['benign'], \n",
    "    'client_3': ['benign'], \n",
    "    'client_4': ['benign'], \n",
    "\n",
    "}\n",
    "\n",
    "# plot_types = {\n",
    "#     'client_1': ['benign', 'attack'],\n",
    "#     'client_2': ['benign', 'attack'], \n",
    "#     'client_3': ['benign', 'attack'], \n",
    "#     'client_4': ['benign', 'attack'], \n",
    "\n",
    "# }\n",
    "\n",
    "feature_to_plot = \"Packet Length Variance\"\n",
    "\n",
    "#setup tick color\n",
    "tick_color = {'benign': 'black', 'attack': 'black'}\n",
    "tcp_apps = ['benign']\n",
    "\n",
    "data = []\n",
    "tick_list = []\n",
    "tick_color_list = []\n",
    "\n",
    "#UDP Data\n",
    "for type, type_group in dataset_sources.items():\n",
    "    if type in list(plot_types.keys()):\n",
    "        for app, path in type_group.items():\n",
    "            if app in plot_types.get(type):\n",
    "                dataset = locals()[type][app]                  \n",
    "                data.append(dataset[feature_to_plot])\n",
    "                tick_list.append(format_client_name(type)) \n",
    "                \n",
    "                if app in tcp_apps:\n",
    "                    tick_color_list.append(tick_color.get('benign'))\n",
    "                else:\n",
    "                    tick_color_list.append(tick_color.get('attack'))\n",
    "\n",
    "save_path = \"/home/sharedrive/PythonCodes/FL_IDS/plots/packet_length_variance_IID_benign.png\"\n",
    "draw_box_plot(data, tick_list, \"IID Benign Traffic\" , '', '', True, size=(4,3), tick_color=tick_color_list, save_path=save_path)\n"
   ]
  },
  {
   "cell_type": "code",
   "execution_count": 63,
   "id": "25d018f7-09d3-49e2-9548-693f2a1604c0",
   "metadata": {},
   "outputs": [],
   "source": [
    "def format_client_name(name):\n",
    "    \"\"\"\n",
    "    Corrects 'clinet' to 'Client' and replaces '_' with ' ' in a dynamic variable.\n",
    "    \n",
    "    Parameters:\n",
    "    - name (str): The input string (e.g., 'clinet_1')\n",
    "\n",
    "    Returns:\n",
    "    - str: Properly formatted name (e.g., 'Client 1')\n",
    "    \"\"\"\n",
    "    return name.replace(\"client\", \"Client\").replace(\"_\", \" \")"
   ]
  },
  {
   "cell_type": "code",
   "execution_count": 87,
   "id": "e55f2c51-ccaf-49f9-91bf-f610068b3762",
   "metadata": {},
   "outputs": [
    {
     "name": "stdout",
     "output_type": "stream",
     "text": [
      "Plot saved to: /home/sharedrive/PythonCodes/FL_IDS/plots/packet_lenght_variance_IID_attack.png\n"
     ]
    },
    {
     "data": {
      "image/png": "[encoded data removed]",
      "text/plain": [
       "<Figure size 400x300 with 1 Axes>"
      ]
     },
     "metadata": {},
     "output_type": "display_data"
    }
   ],
   "source": [
    "plot_types = {\n",
    "    'client_1': ['attack'],\n",
    "    'client_2': ['attack'], \n",
    "    'client_3': ['attack'], \n",
    "    'client_4': ['attack'], \n",
    "\n",
    "}\n",
    "\n",
    "feature_to_plot = \"Packet Length Variance\"\n",
    "\n",
    "#setup tick color\n",
    "tick_color = {'benign': 'green', 'attack': 'black'}\n",
    "tcp_apps = ['benign']\n",
    "\n",
    "data = []\n",
    "tick_list = []\n",
    "tick_color_list = []\n",
    "\n",
    "#UDP Data\n",
    "for type, type_group in dataset_sources.items():\n",
    "    if type in list(plot_types.keys()):\n",
    "        for app, path in type_group.items():\n",
    "            if app in plot_types.get(type):\n",
    "                dataset = locals()[type][app]                  \n",
    "                data.append(dataset[feature_to_plot])\n",
    "               \n",
    "                #client_name =  re.sub(r\"type\", \"Client\", s).replace(\"_\", \" \")\n",
    "                #tick_list.append(\"{0}\".format(type).split(\"_\")) \n",
    "                tick_list.append(format_client_name(type)) \n",
    "                \n",
    "                if app in tcp_apps:\n",
    "                    tick_color_list.append(tick_color.get('benign'))\n",
    "                else:\n",
    "                    tick_color_list.append(tick_color.get('attack'))\n",
    "\n",
    "save_path = \"/home/sharedrive/PythonCodes/FL_IDS/plots/packet_lenght_variance_IID_attack.png\"\n",
    "#save_path = None\n",
    "draw_box_plot(data, tick_list, \" IID Attack Traffic\" , '', '', True, size=(4,3), tick_color=tick_color_list, save_path=save_path)"
   ]
  },
  {
   "cell_type": "code",
   "execution_count": null,
   "id": "5191914c-ef89-4256-88ec-a43089c71c7d",
   "metadata": {},
   "outputs": [],
   "source": []
  },
  {
   "cell_type": "code",
   "execution_count": 88,
   "id": "f3f1bfcd-d776-4362-8d27-53767694b40b",
   "metadata": {},
   "outputs": [
    {
     "name": "stdout",
     "output_type": "stream",
     "text": [
      "Plot saved to: /home/sharedrive/PythonCodes/FL_IDS/plots/flow_iat_mean_IID_attack.png\n"
     ]
    },
    {
     "data": {
      "image/png": "[encoded data removed]",
      "text/plain": [
       "<Figure size 400x300 with 1 Axes>"
      ]
     },
     "metadata": {},
     "output_type": "display_data"
    }
   ],
   "source": [
    "plot_types = {\n",
    "    'client_1': ['attack'],\n",
    "    'client_2': ['attack'], \n",
    "    'client_3': ['attack'], \n",
    "    'client_4': ['attack'], \n",
    "\n",
    "}\n",
    "\n",
    "feature_to_plot = \"Flow IAT Mean\"\n",
    "\n",
    "#setup tick color\n",
    "tick_color = {'benign': 'black', 'attack': 'black'}\n",
    "tcp_apps = ['benign']\n",
    "\n",
    "data = []\n",
    "tick_list = []\n",
    "tick_color_list = []\n",
    "\n",
    "#UDP Data\n",
    "for type, type_group in dataset_sources.items():\n",
    "    if type in list(plot_types.keys()):\n",
    "        for app, path in type_group.items():\n",
    "            if app in plot_types.get(type):\n",
    "                dataset = locals()[type][app]                  \n",
    "                data.append(dataset[feature_to_plot])\n",
    "                tick_list.append(format_client_name(type)) \n",
    "                \n",
    "                if app in tcp_apps:\n",
    "                    tick_color_list.append(tick_color.get('benign'))\n",
    "                else:\n",
    "                    tick_color_list.append(tick_color.get('attack'))\n",
    "\n",
    "save_path = \"/home/sharedrive/PythonCodes/FL_IDS/plots/flow_iat_mean_IID_attack.png\"\n",
    "#save_path = None\n",
    "draw_box_plot(data, tick_list, \"IID Attack Traffic \" , '', '', True, size=(4,3), tick_color=tick_color_list, save_path=save_path)"
   ]
  },
  {
   "cell_type": "code",
   "execution_count": null,
   "id": "c07b93db-3a44-413b-bf5a-3f9e0a5335a4",
   "metadata": {},
   "outputs": [],
   "source": []
  }
 ],
 "metadata": {
  "kernelspec": {
   "display_name": "Python 3 (ipykernel)",
   "language": "python",
   "name": "python3"
  },
  "language_info": {
   "codemirror_mode": {
    "name": "ipython",
    "version": 3
   },
   "file_extension": ".py",
   "mimetype": "text/x-python",
   "name": "python",
   "nbconvert_exporter": "python",
   "pygments_lexer": "ipython3",
   "version": "3.11.6"
  }
 },
 "nbformat": 4,
 "nbformat_minor": 5
}
